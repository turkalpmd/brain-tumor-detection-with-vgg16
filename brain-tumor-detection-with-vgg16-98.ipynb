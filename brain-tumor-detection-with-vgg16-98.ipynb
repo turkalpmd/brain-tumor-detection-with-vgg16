{
 "cells": [
  {
   "cell_type": "markdown",
   "id": "73dbf43e",
   "metadata": {
    "papermill": {
     "duration": 0.008616,
     "end_time": "2022-08-01T17:51:01.777179",
     "exception": false,
     "start_time": "2022-08-01T17:51:01.768563",
     "status": "completed"
    },
    "tags": []
   },
   "source": [
    "![](https://bonitasprings.floridaweekly.com/wp-content/uploads/images/2017-11-09/15p1.jpg)"
   ]
  },
  {
   "cell_type": "code",
   "execution_count": 1,
   "id": "5234444a",
   "metadata": {
    "_cell_guid": "b1076dfc-b9ad-4769-8c92-a6c4dae69d19",
    "_uuid": "8f2839f25d086af736a60e9eeb907d3b93b6e0e5",
    "execution": {
     "iopub.execute_input": "2022-08-01T17:51:01.794568Z",
     "iopub.status.busy": "2022-08-01T17:51:01.793694Z",
     "iopub.status.idle": "2022-08-01T17:51:04.971211Z",
     "shell.execute_reply": "2022-08-01T17:51:04.970175Z"
    },
    "papermill": {
     "duration": 3.189422,
     "end_time": "2022-08-01T17:51:04.974047",
     "exception": false,
     "start_time": "2022-08-01T17:51:01.784625",
     "status": "completed"
    },
    "tags": []
   },
   "outputs": [
    {
     "name": "stdout",
     "output_type": "stream",
     "text": [
      "Using CUDA\n"
     ]
    }
   ],
   "source": [
    "from __future__ import print_function, division\n",
    "import os\n",
    "import cv2\n",
    "import pandas as pd\n",
    "from PIL import Image\n",
    "import torch\n",
    "import torch.nn as nn\n",
    "import torch.optim as optim\n",
    "from torch.optim import lr_scheduler\n",
    "from torch.autograd import Variable\n",
    "import numpy as np\n",
    "import torchvision\n",
    "from torchvision import datasets, models, transforms\n",
    "import matplotlib.pyplot as plt\n",
    "import time\n",
    "import os\n",
    "import copy\n",
    "from sklearn.metrics import accuracy_score\n",
    "from sklearn.metrics import confusion_matrix\n",
    "plt.ion()  \n",
    "import seaborn as sns\n",
    "import shutil\n",
    "import warnings\n",
    "warnings.filterwarnings('ignore')\n",
    "use_gpu = torch.cuda.is_available()\n",
    "if use_gpu:\n",
    "    print(\"Using CUDA\")\n",
    "else:\n",
    "    print(\"Using CPU\")"
   ]
  },
  {
   "cell_type": "code",
   "execution_count": 2,
   "id": "cbbc6db1",
   "metadata": {
    "execution": {
     "iopub.execute_input": "2022-08-01T17:51:04.990966Z",
     "iopub.status.busy": "2022-08-01T17:51:04.990481Z",
     "iopub.status.idle": "2022-08-01T17:51:05.046945Z",
     "shell.execute_reply": "2022-08-01T17:51:05.045959Z"
    },
    "papermill": {
     "duration": 0.067492,
     "end_time": "2022-08-01T17:51:05.049369",
     "exception": false,
     "start_time": "2022-08-01T17:51:04.981877",
     "status": "completed"
    },
    "tags": []
   },
   "outputs": [],
   "source": [
    "data = pd.read_csv('../input/brain-tumor/Brain Tumor.csv', usecols=[0,1])\n",
    "os.mkdir(\"all_data\")\n",
    "os.mkdir(\"all_data/Tumor\")\n",
    "os.mkdir(\"all_data/non-Tumor\")"
   ]
  },
  {
   "cell_type": "code",
   "execution_count": 3,
   "id": "567ed42b",
   "metadata": {
    "execution": {
     "iopub.execute_input": "2022-08-01T17:51:05.066748Z",
     "iopub.status.busy": "2022-08-01T17:51:05.065883Z",
     "iopub.status.idle": "2022-08-01T17:51:05.089289Z",
     "shell.execute_reply": "2022-08-01T17:51:05.088438Z"
    },
    "papermill": {
     "duration": 0.034513,
     "end_time": "2022-08-01T17:51:05.091469",
     "exception": false,
     "start_time": "2022-08-01T17:51:05.056956",
     "status": "completed"
    },
    "tags": []
   },
   "outputs": [
    {
     "data": {
      "text/html": [
       "<div>\n",
       "<style scoped>\n",
       "    .dataframe tbody tr th:only-of-type {\n",
       "        vertical-align: middle;\n",
       "    }\n",
       "\n",
       "    .dataframe tbody tr th {\n",
       "        vertical-align: top;\n",
       "    }\n",
       "\n",
       "    .dataframe thead th {\n",
       "        text-align: right;\n",
       "    }\n",
       "</style>\n",
       "<table border=\"1\" class=\"dataframe\">\n",
       "  <thead>\n",
       "    <tr style=\"text-align: right;\">\n",
       "      <th></th>\n",
       "      <th>Image</th>\n",
       "      <th>Class</th>\n",
       "    </tr>\n",
       "  </thead>\n",
       "  <tbody>\n",
       "    <tr>\n",
       "      <th>149</th>\n",
       "      <td>Image150</td>\n",
       "      <td>1</td>\n",
       "    </tr>\n",
       "  </tbody>\n",
       "</table>\n",
       "</div>"
      ],
      "text/plain": [
       "        Image  Class\n",
       "149  Image150      1"
      ]
     },
     "execution_count": 3,
     "metadata": {},
     "output_type": "execute_result"
    }
   ],
   "source": [
    "data[data[\"Image\"]==\"Image150\"]"
   ]
  },
  {
   "cell_type": "code",
   "execution_count": 4,
   "id": "54100e72",
   "metadata": {
    "execution": {
     "iopub.execute_input": "2022-08-01T17:51:05.108098Z",
     "iopub.status.busy": "2022-08-01T17:51:05.107783Z",
     "iopub.status.idle": "2022-08-01T17:51:05.321798Z",
     "shell.execute_reply": "2022-08-01T17:51:05.320854Z"
    },
    "papermill": {
     "duration": 0.225435,
     "end_time": "2022-08-01T17:51:05.324759",
     "exception": false,
     "start_time": "2022-08-01T17:51:05.099324",
     "status": "completed"
    },
    "tags": []
   },
   "outputs": [
    {
     "name": "stdout",
     "output_type": "stream",
     "text": [
      "torch.Size([3, 240, 240])\n",
      "Image150\n",
      "Image label is  1\n"
     ]
    },
    {
     "data": {
      "image/png": "[encoded data removed]",
      "text/plain": [
       "<Figure size 432x288 with 1 Axes>"
      ]
     },
     "metadata": {
      "needs_background": "light"
     },
     "output_type": "display_data"
    }
   ],
   "source": [
    "#Take a look to a sampler Image\n",
    "example_image = '../input/brain-tumor/Brain Tumor/Brain Tumor/Image150.jpg'\n",
    "\n",
    "img150 = torchvision.io.read_image(example_image) \n",
    "                                                \n",
    "print(img150.shape)\n",
    "import matplotlib.pyplot as plt\n",
    "plt.imshow(img150.permute((1,2,0)))\n",
    "print(data.loc[149][0])\n",
    "print(\"Image label is \", data.loc[149][1])"
   ]
  },
  {
   "cell_type": "markdown",
   "id": "1c46c76f",
   "metadata": {
    "papermill": {
     "duration": 0.00867,
     "end_time": "2022-08-01T17:51:05.342230",
     "exception": false,
     "start_time": "2022-08-01T17:51:05.333560",
     "status": "completed"
    },
    "tags": []
   },
   "source": [
    "# For more information about Transfer Learning, you can check-up the [notebook](https://www.kaggle.com/code/zzettrkalpakbal/transfer-learning-vgg16-medical-mnist-100) I published earlier."
   ]
  },
  {
   "cell_type": "code",
   "execution_count": 5,
   "id": "cc4a1fd5",
   "metadata": {
    "execution": {
     "iopub.execute_input": "2022-08-01T17:51:05.360069Z",
     "iopub.status.busy": "2022-08-01T17:51:05.359649Z",
     "iopub.status.idle": "2022-08-01T17:51:26.313472Z",
     "shell.execute_reply": "2022-08-01T17:51:26.312502Z"
    },
    "papermill": {
     "duration": 20.965515,
     "end_time": "2022-08-01T17:51:26.315973",
     "exception": false,
     "start_time": "2022-08-01T17:51:05.350458",
     "status": "completed"
    },
    "tags": []
   },
   "outputs": [],
   "source": [
    "path = '../input/brain-tumor/Brain Tumor/Brain Tumor/'\n",
    "for i in range(data.shape[0]):\n",
    "    a = data[\"Image\"].iloc[i]\n",
    "    if data[\"Class\"].iloc[i] == 0:\n",
    "        shutil.copy2(path+str(a+\".jpg\"), \"/kaggle/working/all_data/non-Tumor\")\n",
    "    else:\n",
    "        shutil.copy2(path+str(a+\".jpg\"), \"/kaggle/working/all_data/Tumor\")"
   ]
  },
  {
   "cell_type": "code",
   "execution_count": 6,
   "id": "d132500a",
   "metadata": {
    "execution": {
     "iopub.execute_input": "2022-08-01T17:51:26.335393Z",
     "iopub.status.busy": "2022-08-01T17:51:26.333497Z",
     "iopub.status.idle": "2022-08-01T17:51:26.349543Z",
     "shell.execute_reply": "2022-08-01T17:51:26.347863Z"
    },
    "papermill": {
     "duration": 0.027954,
     "end_time": "2022-08-01T17:51:26.352308",
     "exception": false,
     "start_time": "2022-08-01T17:51:26.324354",
     "status": "completed"
    },
    "tags": []
   },
   "outputs": [
    {
     "name": "stdout",
     "output_type": "stream",
     "text": [
      "Target = 0 files number in new folder;  2079\n",
      "Target = 1 files number in new folder;  1683\n",
      "Target = 0 files number in dataset; 2079\n",
      "Target = 1 files number in dataset; 1683\n"
     ]
    }
   ],
   "source": [
    "print(\"Target = 0 files number in new folder; \",len(os.listdir(\"/kaggle/working/all_data/non-Tumor\")))\n",
    "print(\"Target = 1 files number in new folder; \",len(os.listdir(\"/kaggle/working/all_data/Tumor\")))\n",
    "dfvc = data.Class.value_counts()\n",
    "print(f\"Target = 0 files number in dataset; {dfvc.values[0]}\")\n",
    "print(f\"Target = 1 files number in dataset; {dfvc.values[1]}\")\n"
   ]
  },
  {
   "cell_type": "code",
   "execution_count": 7,
   "id": "07992226",
   "metadata": {
    "execution": {
     "iopub.execute_input": "2022-08-01T17:51:26.371676Z",
     "iopub.status.busy": "2022-08-01T17:51:26.370192Z",
     "iopub.status.idle": "2022-08-01T17:51:26.376845Z",
     "shell.execute_reply": "2022-08-01T17:51:26.375980Z"
    },
    "papermill": {
     "duration": 0.018135,
     "end_time": "2022-08-01T17:51:26.378767",
     "exception": false,
     "start_time": "2022-08-01T17:51:26.360632",
     "status": "completed"
    },
    "tags": []
   },
   "outputs": [
    {
     "name": "stdout",
     "output_type": "stream",
     "text": [
      "['Tumor', 'non-Tumor']\n"
     ]
    }
   ],
   "source": [
    "path= \"/kaggle/working/all_data\"\n",
    "targets=os.listdir(path)\n",
    "print(targets)"
   ]
  },
  {
   "cell_type": "code",
   "execution_count": 8,
   "id": "23943a7a",
   "metadata": {
    "execution": {
     "iopub.execute_input": "2022-08-01T17:51:26.396702Z",
     "iopub.status.busy": "2022-08-01T17:51:26.395879Z",
     "iopub.status.idle": "2022-08-01T17:51:26.401307Z",
     "shell.execute_reply": "2022-08-01T17:51:26.400376Z"
    },
    "papermill": {
     "duration": 0.016563,
     "end_time": "2022-08-01T17:51:26.403452",
     "exception": false,
     "start_time": "2022-08-01T17:51:26.386889",
     "status": "completed"
    },
    "tags": []
   },
   "outputs": [],
   "source": [
    "data_dir= \"/kaggle/working/all_data/splitted_data\"\n",
    "train_path=os.path.join(data_dir,'train')\n",
    "valid_path=os.path.join(data_dir,'valid')\n",
    "test_path=os.path.join(data_dir,'test')"
   ]
  },
  {
   "cell_type": "code",
   "execution_count": 9,
   "id": "c2b07434",
   "metadata": {
    "execution": {
     "iopub.execute_input": "2022-08-01T17:51:26.421754Z",
     "iopub.status.busy": "2022-08-01T17:51:26.421407Z",
     "iopub.status.idle": "2022-08-01T17:51:26.433512Z",
     "shell.execute_reply": "2022-08-01T17:51:26.432618Z"
    },
    "papermill": {
     "duration": 0.023191,
     "end_time": "2022-08-01T17:51:26.435571",
     "exception": false,
     "start_time": "2022-08-01T17:51:26.412380",
     "status": "completed"
    },
    "tags": []
   },
   "outputs": [
    {
     "name": "stdout",
     "output_type": "stream",
     "text": [
      "/kaggle/working/all_data/splitted_data: True\n",
      "/kaggle/working/all_data/splitted_data/train: True\n",
      "/kaggle/working/all_data/splitted_data/valid: True\n",
      "/kaggle/working/all_data/splitted_data/test: True\n",
      "/kaggle/working/all_data/splitted_data/train/Tumor: True\n",
      "/kaggle/working/all_data/splitted_data/valid/Tumor: True\n",
      "/kaggle/working/all_data/splitted_data/test/Tumor: True\n",
      "/kaggle/working/all_data/splitted_data/train/non-Tumor: True\n",
      "/kaggle/working/all_data/splitted_data/valid/non-Tumor: True\n",
      "/kaggle/working/all_data/splitted_data/test/non-Tumor: True\n"
     ]
    }
   ],
   "source": [
    "def make_dir():\n",
    "    if not os.path.isdir(data_dir):\n",
    "        os.mkdir(data_dir)\n",
    "        os.mkdir(train_path)\n",
    "        os.mkdir(valid_path)\n",
    "        os.mkdir(test_path)\n",
    "        for target in targets:\n",
    "            os.mkdir(os.path.join(train_path,target))\n",
    "            os.mkdir(os.path.join(valid_path,target))\n",
    "            os.mkdir(os.path.join(test_path,target))\n",
    "def check_dir():\n",
    "    print(f'{data_dir}: {os.path.isdir(data_dir)}')\n",
    "    print(f'{train_path}: {os.path.isdir(train_path)}')\n",
    "    print(f'{valid_path}: {os.path.isdir(valid_path)}')\n",
    "    print(f'{test_path}: {os.path.isdir(test_path)}')\n",
    "    for target in targets:\n",
    "        print(f'{os.path.join(train_path,target)}: {os.path.isdir(os.path.join(train_path,target))}')\n",
    "        print(f'{os.path.join(valid_path,target)}: {os.path.isdir(os.path.join(valid_path,target))}')\n",
    "        print(f'{os.path.join(test_path,target)}: {os.path.isdir(os.path.join(test_path,target))}')\n",
    "\n",
    "make_dir()\n",
    "check_dir()"
   ]
  },
  {
   "cell_type": "code",
   "execution_count": 10,
   "id": "a6cb2a49",
   "metadata": {
    "execution": {
     "iopub.execute_input": "2022-08-01T17:51:26.453222Z",
     "iopub.status.busy": "2022-08-01T17:51:26.452494Z",
     "iopub.status.idle": "2022-08-01T17:51:26.476525Z",
     "shell.execute_reply": "2022-08-01T17:51:26.475052Z"
    },
    "papermill": {
     "duration": 0.035055,
     "end_time": "2022-08-01T17:51:26.478689",
     "exception": false,
     "start_time": "2022-08-01T17:51:26.443634",
     "status": "completed"
    },
    "tags": []
   },
   "outputs": [
    {
     "name": "stdout",
     "output_type": "stream",
     "text": [
      "Image size: (240, 240, 3)\n",
      "Max pixel value: 255\n"
     ]
    }
   ],
   "source": [
    "# Properties of images;\n",
    "import cv2\n",
    "image = cv2.imread('/kaggle/working/all_data/non-Tumor/Image594.jpg')\n",
    "print(f'Image size: {image.shape}')\n",
    "print(f'Max pixel value: {np.max(image)}')\n"
   ]
  },
  {
   "cell_type": "markdown",
   "id": "318ad12b",
   "metadata": {
    "papermill": {
     "duration": 0.008475,
     "end_time": "2022-08-01T17:51:26.495388",
     "exception": false,
     "start_time": "2022-08-01T17:51:26.486913",
     "status": "completed"
    },
    "tags": []
   },
   "source": [
    "### Actually, there are more patients in the non-Tumor group, but since I want a fully balanced set, I will only include them in the non-Tumor group as much as the Tumor group."
   ]
  },
  {
   "cell_type": "code",
   "execution_count": 11,
   "id": "baccfd65",
   "metadata": {
    "execution": {
     "iopub.execute_input": "2022-08-01T17:51:26.512760Z",
     "iopub.status.busy": "2022-08-01T17:51:26.512487Z",
     "iopub.status.idle": "2022-08-01T17:51:26.895440Z",
     "shell.execute_reply": "2022-08-01T17:51:26.894311Z"
    },
    "papermill": {
     "duration": 0.395382,
     "end_time": "2022-08-01T17:51:26.898894",
     "exception": false,
     "start_time": "2022-08-01T17:51:26.503512",
     "status": "completed"
    },
    "tags": []
   },
   "outputs": [
    {
     "name": "stdout",
     "output_type": "stream",
     "text": [
      "Loading the training images for Tumor\n"
     ]
    },
    {
     "name": "stderr",
     "output_type": "stream",
     "text": [
      "100%|██████████| 1178/1178 [00:00<00:00, 10208.51it/s]\n"
     ]
    },
    {
     "name": "stdout",
     "output_type": "stream",
     "text": [
      "Loading the training images for non-Tumor\n"
     ]
    },
    {
     "name": "stderr",
     "output_type": "stream",
     "text": [
      "100%|██████████| 1178/1178 [00:00<00:00, 10328.55it/s]\n"
     ]
    },
    {
     "name": "stdout",
     "output_type": "stream",
     "text": [
      "Loading the validation images for Tumor\n"
     ]
    },
    {
     "name": "stderr",
     "output_type": "stream",
     "text": [
      "100%|██████████| 169/169 [00:00<00:00, 9787.46it/s]\n"
     ]
    },
    {
     "name": "stdout",
     "output_type": "stream",
     "text": [
      "Loading the validation images for non-Tumor\n"
     ]
    },
    {
     "name": "stderr",
     "output_type": "stream",
     "text": [
      "100%|██████████| 169/169 [00:00<00:00, 10004.90it/s]\n"
     ]
    },
    {
     "name": "stdout",
     "output_type": "stream",
     "text": [
      "Loading the testing images for Tumor\n"
     ]
    },
    {
     "name": "stderr",
     "output_type": "stream",
     "text": [
      "100%|██████████| 336/336 [00:00<00:00, 10045.23it/s]\n"
     ]
    },
    {
     "name": "stdout",
     "output_type": "stream",
     "text": [
      "Loading the testing images for non-Tumor\n"
     ]
    },
    {
     "name": "stderr",
     "output_type": "stream",
     "text": [
      "100%|██████████| 336/336 [00:00<00:00, 10587.38it/s]\n"
     ]
    }
   ],
   "source": [
    "# train:test:valid = 1178:336:169 = 70:20:10\n",
    "def load_train_images(path=path,n=1178):\n",
    "    for target in targets:\n",
    "        data_path=os.path.join(path,target)\n",
    "        dest=os.path.join(train_path,target)\n",
    "        image_set=random.sample(os.listdir(data_path),n)\n",
    "        print(f'Loading the training images for {target}')\n",
    "        for file in tqdm(image_set):\n",
    "            file_path=os.path.join(data_path,file)\n",
    "            shutil.copy(file_path,dest)\n",
    "def load_valid_images(path=path,n=169):\n",
    "    for target in targets:\n",
    "        data_path=os.path.join(path,target)\n",
    "        dest=os.path.join(valid_path,target)\n",
    "        image_set=random.sample(os.listdir(data_path),n)\n",
    "        print(f'Loading the validation images for {target}')\n",
    "        for file in tqdm(image_set):\n",
    "            file_path=os.path.join(data_path,file)\n",
    "            shutil.copy(file_path,dest)\n",
    "def load_test_images(path=path,n=336):\n",
    "    for target in targets:\n",
    "        data_path=os.path.join(path,target)\n",
    "        dest=os.path.join(test_path,target)\n",
    "        image_set=random.sample(os.listdir(data_path),n)\n",
    "        print(f'Loading the testing images for {target}')\n",
    "        for file in tqdm(image_set):\n",
    "            file_path=os.path.join(data_path,file)\n",
    "            shutil.copy(file_path,dest)\n",
    "    \n",
    "import random\n",
    "from tqdm import tqdm\n",
    "import shutil\n",
    "load_train_images()\n",
    "load_valid_images()\n",
    "load_test_images()"
   ]
  },
  {
   "cell_type": "code",
   "execution_count": 12,
   "id": "7a7d7a5e",
   "metadata": {
    "execution": {
     "iopub.execute_input": "2022-08-01T17:51:26.921388Z",
     "iopub.status.busy": "2022-08-01T17:51:26.921083Z",
     "iopub.status.idle": "2022-08-01T17:51:26.952256Z",
     "shell.execute_reply": "2022-08-01T17:51:26.951049Z"
    },
    "papermill": {
     "duration": 0.044347,
     "end_time": "2022-08-01T17:51:26.954366",
     "exception": false,
     "start_time": "2022-08-01T17:51:26.910019",
     "status": "completed"
    },
    "tags": []
   },
   "outputs": [
    {
     "name": "stdout",
     "output_type": "stream",
     "text": [
      "Loaded 2356 images under train\n",
      "Loaded 338 images under valid\n",
      "Loaded 672 images under test\n",
      "Classes: \n",
      "['Tumor', 'non-Tumor']\n"
     ]
    }
   ],
   "source": [
    "data_dir = './all_data/splitted_data'\n",
    "TRAIN = 'train'\n",
    "VAL = 'valid'\n",
    "TEST = 'test'\n",
    "\n",
    "# VGG-16 Takes 224x224 images as input, so we resize all of them\n",
    "data_transforms = {\n",
    "    TRAIN: transforms.Compose([\n",
    "        transforms.RandomHorizontalFlip(p=0.6),\n",
    "        transforms.RandomRotation(degrees=10),               \n",
    "        transforms.RandomResizedCrop(240),\n",
    "        transforms.ToTensor(),\n",
    "        transforms.Normalize([0.485, 0.456, 0.406], # Gaussian Noise\n",
    "                             [0.229, 0.224, 0.225])\n",
    "    ]),\n",
    "    VAL: transforms.Compose([\n",
    "        transforms.ToTensor(),\n",
    "        transforms.Normalize([0.485, 0.456, 0.406], # Gaussian Noise\n",
    "                             [0.229, 0.224, 0.225])\n",
    "    ]),\n",
    "    TEST: transforms.Compose([\n",
    "        transforms.ToTensor(),\n",
    "        transforms.Normalize([0.485, 0.456, 0.406], # Gaussian Noise\n",
    "                             [0.229, 0.224, 0.225])\n",
    "   ])\n",
    "}\n",
    "\n",
    "image_datasets = {\n",
    "    x: datasets.ImageFolder(\n",
    "        os.path.join(data_dir, x), \n",
    "        transform=data_transforms[x]\n",
    "    )\n",
    "    for x in [TRAIN, VAL, TEST]\n",
    "}\n",
    "\n",
    "dataloaders = {\n",
    "    x: torch.utils.data.DataLoader(\n",
    "        image_datasets[x], batch_size=8,\n",
    "        shuffle=True, num_workers=4\n",
    "    )\n",
    "    for x in [TRAIN, VAL, TEST]\n",
    "}\n",
    "\n",
    "dataset_sizes = {x: len(image_datasets[x]) for x in [TRAIN, VAL, TEST]}\n",
    "\n",
    "for x in [TRAIN, VAL, TEST]:\n",
    "    print(\"Loaded {} images under {}\".format(dataset_sizes[x], x))\n",
    "    \n",
    "print(\"Classes: \")\n",
    "class_names = image_datasets[TRAIN].classes\n",
    "print(image_datasets[TRAIN].classes)"
   ]
  },
  {
   "cell_type": "code",
   "execution_count": 13,
   "id": "e0518f1b",
   "metadata": {
    "execution": {
     "iopub.execute_input": "2022-08-01T17:51:26.976682Z",
     "iopub.status.busy": "2022-08-01T17:51:26.975774Z",
     "iopub.status.idle": "2022-08-01T17:51:27.578746Z",
     "shell.execute_reply": "2022-08-01T17:51:27.577794Z"
    },
    "papermill": {
     "duration": 0.616541,
     "end_time": "2022-08-01T17:51:27.581160",
     "exception": false,
     "start_time": "2022-08-01T17:51:26.964619",
     "status": "completed"
    },
    "tags": []
   },
   "outputs": [
    {
     "data": {
      "image/png": "[encoded data removed]",
      "text/plain": [
       "<Figure size 432x288 with 1 Axes>"
      ]
     },
     "metadata": {
      "needs_background": "light"
     },
     "output_type": "display_data"
    }
   ],
   "source": [
    "def imshow(inp, title=None):\n",
    "    inp = inp.numpy().transpose((1, 2, 0))\n",
    "    # plt.figure(figsize=(10, 10))\n",
    "    plt.axis('off')\n",
    "    plt.imshow(inp)\n",
    "    if title is not None:\n",
    "        plt.title(title)\n",
    "    plt.pause(0.001)\n",
    "\n",
    "def show_databatch(inputs, classes):\n",
    "    out = torchvision.utils.make_grid(inputs)\n",
    "    imshow(out, title=[class_names[x] for x in classes])\n",
    "\n",
    "# Get a batch of training data\n",
    "inputs, classes = next(iter(dataloaders[TRAIN]))\n",
    "show_databatch(inputs, classes)"
   ]
  },
  {
   "cell_type": "code",
   "execution_count": 14,
   "id": "7b8c48fd",
   "metadata": {
    "execution": {
     "iopub.execute_input": "2022-08-01T17:51:27.604362Z",
     "iopub.status.busy": "2022-08-01T17:51:27.604021Z",
     "iopub.status.idle": "2022-08-01T17:51:27.751035Z",
     "shell.execute_reply": "2022-08-01T17:51:27.750015Z"
    },
    "papermill": {
     "duration": 0.161153,
     "end_time": "2022-08-01T17:51:27.753300",
     "exception": false,
     "start_time": "2022-08-01T17:51:27.592147",
     "status": "completed"
    },
    "tags": []
   },
   "outputs": [],
   "source": [
    "def visualize_model(vgg, num_images=6):\n",
    "    was_training = vgg.training\n",
    "    \n",
    "    # Set model for evaluation\n",
    "    vgg.train(False)\n",
    "    vgg.eval() \n",
    "    \n",
    "    images_so_far = 0\n",
    "\n",
    "    for i, data in enumerate(dataloaders[TEST]):\n",
    "        inputs, labels = data\n",
    "        size = inputs.size()[0]\n",
    "        \n",
    "        if use_gpu:\n",
    "            inputs, labels = Variable(inputs.cuda(), volatile=True), Variable(labels.cuda(), volatile=True)\n",
    "        else:\n",
    "            inputs, labels = Variable(inputs, volatile=True), Variable(labels, volatile=True)\n",
    "        \n",
    "        outputs = vgg(inputs)\n",
    "        \n",
    "        _, preds = torch.max(outputs.data, 1)\n",
    "        predicted_labels = [preds[j] for j in range(inputs.size()[0])]\n",
    "        \n",
    "        print(\"Ground truth:\")\n",
    "        show_databatch(inputs.data.cpu(), labels.data.cpu())\n",
    "        print(\"Prediction:\")\n",
    "        show_databatch(inputs.data.cpu(), predicted_labels)\n",
    "        \n",
    "        del inputs, labels, outputs, preds, predicted_labels\n",
    "        torch.cuda.empty_cache()\n",
    "        \n",
    "        images_so_far += size\n",
    "        if images_so_far >= num_images:\n",
    "            break\n",
    "        \n",
    "    vgg.train(mode=was_training) # Revert model back to original training state"
   ]
  },
  {
   "cell_type": "code",
   "execution_count": 15,
   "id": "2d02e0f0",
   "metadata": {
    "execution": {
     "iopub.execute_input": "2022-08-01T17:51:27.776220Z",
     "iopub.status.busy": "2022-08-01T17:51:27.775899Z",
     "iopub.status.idle": "2022-08-01T17:51:27.787422Z",
     "shell.execute_reply": "2022-08-01T17:51:27.786442Z"
    },
    "papermill": {
     "duration": 0.02538,
     "end_time": "2022-08-01T17:51:27.789551",
     "exception": false,
     "start_time": "2022-08-01T17:51:27.764171",
     "status": "completed"
    },
    "tags": []
   },
   "outputs": [],
   "source": [
    "def eval_model(vgg, criterion):\n",
    "    since = time.time()\n",
    "    avg_loss = 0\n",
    "    avg_acc = 0\n",
    "    loss_test = 0\n",
    "    acc_test = 0\n",
    "    \n",
    "    test_batches = len(dataloaders[TEST])\n",
    "    print(\"Evaluating model\")\n",
    "    print('-' * 10)\n",
    "    \n",
    "    for i, data in enumerate(dataloaders[TEST]):\n",
    "        if i % 100 == 0:\n",
    "            print(\"\\rTest batch {}/{}\".format(i, test_batches), end='', flush=True)\n",
    "\n",
    "        vgg.train(False)\n",
    "        vgg.eval()\n",
    "        inputs, labels = data\n",
    "\n",
    "        if use_gpu:\n",
    "            inputs, labels = Variable(inputs.cuda(), volatile=True), Variable(labels.cuda(), volatile=True)\n",
    "        else:\n",
    "            inputs, labels = Variable(inputs, volatile=True), Variable(labels, volatile=True)\n",
    "\n",
    "        outputs = vgg(inputs)\n",
    "\n",
    "        _, preds = torch.max(outputs.data, 1)\n",
    "        loss = criterion(outputs, labels)\n",
    "\n",
    "        loss_test += loss.data\n",
    "        acc_test += torch.sum(preds == labels.data)\n",
    "\n",
    "        del inputs, labels, outputs, preds\n",
    "        torch.cuda.empty_cache()\n",
    "        \n",
    "    avg_loss = loss_test / dataset_sizes[TEST]\n",
    "    avg_acc = acc_test / dataset_sizes[TEST]\n",
    "    \n",
    "    elapsed_time = time.time() - since\n",
    "    print()\n",
    "    print(\"Evaluation completed in {:.0f}m {:.0f}s\".format(elapsed_time // 60, elapsed_time % 60))\n",
    "    print(\"Avg loss (test): {:.4f}\".format(avg_loss))\n",
    "    print(\"Avg acc (test): {:.4f}\".format(avg_acc))\n",
    "    print('-' * 10)"
   ]
  },
  {
   "cell_type": "code",
   "execution_count": 16,
   "id": "cea6f810",
   "metadata": {
    "execution": {
     "iopub.execute_input": "2022-08-01T17:51:27.812183Z",
     "iopub.status.busy": "2022-08-01T17:51:27.811833Z",
     "iopub.status.idle": "2022-08-01T17:51:32.781038Z",
     "shell.execute_reply": "2022-08-01T17:51:32.780048Z"
    },
    "papermill": {
     "duration": 4.983895,
     "end_time": "2022-08-01T17:51:32.784359",
     "exception": false,
     "start_time": "2022-08-01T17:51:27.800464",
     "status": "completed"
    },
    "tags": []
   },
   "outputs": [
    {
     "name": "stderr",
     "output_type": "stream",
     "text": [
      "Downloading: \"https://download.pytorch.org/models/vgg16-397923af.pth\" to /root/.cache/torch/hub/checkpoints/vgg16-397923af.pth\n"
     ]
    },
    {
     "data": {
      "application/vnd.jupyter.widget-view+json": {
       "model_id": "7276f98e8b2942eaa84f038bf7cae9d1",
       "version_major": 2,
       "version_minor": 0
      },
      "text/plain": [
       "  0%|          | 0.00/528M [00:00<?, ?B/s]"
      ]
     },
     "metadata": {},
     "output_type": "display_data"
    }
   ],
   "source": [
    "import torchvision.models as models\n",
    "device = torch.device(\"cuda\" if torch.cuda.is_available() else \"cpu\")\n",
    "vgg = models.vgg16(pretrained=True)"
   ]
  },
  {
   "cell_type": "code",
   "execution_count": 17,
   "id": "f4985f88",
   "metadata": {
    "execution": {
     "iopub.execute_input": "2022-08-01T17:51:32.809243Z",
     "iopub.status.busy": "2022-08-01T17:51:32.808897Z",
     "iopub.status.idle": "2022-08-01T17:51:35.946818Z",
     "shell.execute_reply": "2022-08-01T17:51:35.945926Z"
    },
    "papermill": {
     "duration": 3.152929,
     "end_time": "2022-08-01T17:51:35.949084",
     "exception": false,
     "start_time": "2022-08-01T17:51:32.796155",
     "status": "completed"
    },
    "tags": []
   },
   "outputs": [
    {
     "data": {
      "text/plain": [
       "VGG(\n",
       "  (features): Sequential(\n",
       "    (0): Conv2d(3, 64, kernel_size=(3, 3), stride=(1, 1), padding=(1, 1))\n",
       "    (1): ReLU(inplace=True)\n",
       "    (2): Conv2d(64, 64, kernel_size=(3, 3), stride=(1, 1), padding=(1, 1))\n",
       "    (3): ReLU(inplace=True)\n",
       "    (4): MaxPool2d(kernel_size=2, stride=2, padding=0, dilation=1, ceil_mode=False)\n",
       "    (5): Conv2d(64, 128, kernel_size=(3, 3), stride=(1, 1), padding=(1, 1))\n",
       "    (6): ReLU(inplace=True)\n",
       "    (7): Conv2d(128, 128, kernel_size=(3, 3), stride=(1, 1), padding=(1, 1))\n",
       "    (8): ReLU(inplace=True)\n",
       "    (9): MaxPool2d(kernel_size=2, stride=2, padding=0, dilation=1, ceil_mode=False)\n",
       "    (10): Conv2d(128, 256, kernel_size=(3, 3), stride=(1, 1), padding=(1, 1))\n",
       "    (11): ReLU(inplace=True)\n",
       "    (12): Conv2d(256, 256, kernel_size=(3, 3), stride=(1, 1), padding=(1, 1))\n",
       "    (13): ReLU(inplace=True)\n",
       "    (14): Conv2d(256, 256, kernel_size=(3, 3), stride=(1, 1), padding=(1, 1))\n",
       "    (15): ReLU(inplace=True)\n",
       "    (16): MaxPool2d(kernel_size=2, stride=2, padding=0, dilation=1, ceil_mode=False)\n",
       "    (17): Conv2d(256, 512, kernel_size=(3, 3), stride=(1, 1), padding=(1, 1))\n",
       "    (18): ReLU(inplace=True)\n",
       "    (19): Conv2d(512, 512, kernel_size=(3, 3), stride=(1, 1), padding=(1, 1))\n",
       "    (20): ReLU(inplace=True)\n",
       "    (21): Conv2d(512, 512, kernel_size=(3, 3), stride=(1, 1), padding=(1, 1))\n",
       "    (22): ReLU(inplace=True)\n",
       "    (23): MaxPool2d(kernel_size=2, stride=2, padding=0, dilation=1, ceil_mode=False)\n",
       "    (24): Conv2d(512, 512, kernel_size=(3, 3), stride=(1, 1), padding=(1, 1))\n",
       "    (25): ReLU(inplace=True)\n",
       "    (26): Conv2d(512, 512, kernel_size=(3, 3), stride=(1, 1), padding=(1, 1))\n",
       "    (27): ReLU(inplace=True)\n",
       "    (28): Conv2d(512, 512, kernel_size=(3, 3), stride=(1, 1), padding=(1, 1))\n",
       "    (29): ReLU(inplace=True)\n",
       "    (30): MaxPool2d(kernel_size=2, stride=2, padding=0, dilation=1, ceil_mode=False)\n",
       "  )\n",
       "  (avgpool): AdaptiveAvgPool2d(output_size=(7, 7))\n",
       "  (classifier): Sequential(\n",
       "    (0): Linear(in_features=25088, out_features=4096, bias=True)\n",
       "    (1): ReLU(inplace=True)\n",
       "    (2): Dropout(p=0.5, inplace=False)\n",
       "    (3): Linear(in_features=4096, out_features=4096, bias=True)\n",
       "    (4): ReLU(inplace=True)\n",
       "    (5): Dropout(p=0.5, inplace=False)\n",
       "    (6): Linear(in_features=4096, out_features=2, bias=True)\n",
       "  )\n",
       ")"
      ]
     },
     "execution_count": 17,
     "metadata": {},
     "output_type": "execute_result"
    }
   ],
   "source": [
    "mod = list(vgg.classifier.children())\n",
    "mod.pop()\n",
    "mod.append(torch.nn.Linear(4096, 2))# Input Layer and output\n",
    "new_classifier = torch.nn.Sequential(*mod)\n",
    "vgg.classifier = new_classifier\n",
    "vgg = vgg.to(device)\n",
    "criterion = torch.nn.CrossEntropyLoss()\n",
    "# Observe that all parameters are being optimized\n",
    "optimizer_ft = optim.SGD(vgg.parameters(), lr=0.001, momentum=0.9)\n",
    "# Decay LR by a factor of 0.1 each epochs\n",
    "exp_lr_scheduler = lr_scheduler.StepLR(optimizer_ft, step_size=1, gamma=0.1)\n",
    "vgg"
   ]
  },
  {
   "cell_type": "code",
   "execution_count": 18,
   "id": "d7d6cdf6",
   "metadata": {
    "execution": {
     "iopub.execute_input": "2022-08-01T17:51:35.974261Z",
     "iopub.status.busy": "2022-08-01T17:51:35.973356Z",
     "iopub.status.idle": "2022-08-01T17:51:47.661011Z",
     "shell.execute_reply": "2022-08-01T17:51:47.659803Z"
    },
    "papermill": {
     "duration": 11.702518,
     "end_time": "2022-08-01T17:51:47.663554",
     "exception": false,
     "start_time": "2022-08-01T17:51:35.961036",
     "status": "completed"
    },
    "tags": []
   },
   "outputs": [
    {
     "name": "stdout",
     "output_type": "stream",
     "text": [
      "Test before training\n",
      "Evaluating model\n",
      "----------\n",
      "Test batch 0/84\n",
      "Evaluation completed in 0m 12s\n",
      "Avg loss (test): 0.0868\n",
      "Avg acc (test): 0.5134\n",
      "----------\n"
     ]
    }
   ],
   "source": [
    "print(\"Test before training\")\n",
    "eval_model(vgg,criterion)"
   ]
  },
  {
   "cell_type": "code",
   "execution_count": 19,
   "id": "70f123c7",
   "metadata": {
    "execution": {
     "iopub.execute_input": "2022-08-01T17:51:47.689327Z",
     "iopub.status.busy": "2022-08-01T17:51:47.688536Z",
     "iopub.status.idle": "2022-08-01T17:51:47.710757Z",
     "shell.execute_reply": "2022-08-01T17:51:47.709867Z"
    },
    "papermill": {
     "duration": 0.037478,
     "end_time": "2022-08-01T17:51:47.712868",
     "exception": false,
     "start_time": "2022-08-01T17:51:47.675390",
     "status": "completed"
    },
    "tags": []
   },
   "outputs": [],
   "source": [
    "def train_model(vgg, criterion, optimizer, scheduler, num_epochs=16):\n",
    "    since = time.time()\n",
    "    best_model_wts = copy.deepcopy(vgg.state_dict())\n",
    "    best_acc = 0.0\n",
    "    avg_loss = 0\n",
    "    avg_acc = 0\n",
    "    avg_loss_val = 0\n",
    "    avg_acc_val = 0\n",
    "    train_batches = len(dataloaders[TRAIN])\n",
    "    val_batches = len(dataloaders[VAL])\n",
    "    for epoch in range(num_epochs):\n",
    "        print(\"Epoch {}/{}\".format(epoch, num_epochs))\n",
    "        print('-' * 10)\n",
    "        loss_train = 0\n",
    "        loss_val = 0\n",
    "        acc_train = 0\n",
    "        acc_val = 0\n",
    "        vgg.train(True)\n",
    "        for i, data in enumerate(dataloaders[TRAIN]):\n",
    "            if i % 100 == 0:\n",
    "                print(\"\\rTraining batch {}/{}\".format(i, train_batches / 2), end='', flush=True)   \n",
    "            # Use half training dataset\n",
    "            if i >= train_batches / 2:\n",
    "                break  \n",
    "            inputs, labels = data\n",
    "            if use_gpu:\n",
    "                inputs, labels = Variable(inputs.cuda()), Variable(labels.cuda())\n",
    "            else:\n",
    "                inputs, labels = Variable(inputs), Variable(labels)\n",
    "            optimizer.zero_grad()\n",
    "            outputs = vgg(inputs)\n",
    "            _, preds = torch.max(outputs.data, 1)\n",
    "            loss = criterion(outputs, labels)\n",
    "            loss.backward()\n",
    "            optimizer.step()\n",
    "            loss_train += loss.data\n",
    "            acc_train += torch.sum(preds == labels.data)\n",
    "            del inputs, labels, outputs, preds\n",
    "            torch.cuda.empty_cache()\n",
    "        print()\n",
    "        # * 2 as we only used half of the dataset\n",
    "        avg_loss = loss_train * 2 / dataset_sizes[TRAIN]\n",
    "        avg_acc = acc_train * 2 / dataset_sizes[TRAIN]\n",
    "        vgg.train(False)\n",
    "        vgg.eval()\n",
    "        for i, data in enumerate(dataloaders[VAL]):\n",
    "            if i % 100 == 0:\n",
    "                print(\"\\rValidation batch {}/{}\".format(i, val_batches), end='', flush=True)\n",
    "            inputs, labels = data\n",
    "            if use_gpu:\n",
    "                inputs, labels = Variable(inputs.cuda(), volatile=True), Variable(labels.cuda(), volatile=True)\n",
    "            else:\n",
    "                inputs, labels = Variable(inputs, volatile=True), Variable(labels, volatile=True)\n",
    "            optimizer.zero_grad()\n",
    "            outputs = vgg(inputs)\n",
    "            _, preds = torch.max(outputs.data, 1)\n",
    "            loss = criterion(outputs, labels)\n",
    "            loss_val += loss.data\n",
    "            acc_val += torch.sum(preds == labels.data)\n",
    "            del inputs, labels, outputs, preds\n",
    "            torch.cuda.empty_cache()\n",
    "        avg_loss_val = loss_val / dataset_sizes[VAL]\n",
    "        avg_acc_val = acc_val / dataset_sizes[VAL]\n",
    "        print()\n",
    "        print(\"Epoch {} result: \".format(epoch))\n",
    "        print(\"Avg loss (train): {:.4f}\".format(avg_loss))\n",
    "        print(\"Avg acc (train): {:.4f}\".format(avg_acc))\n",
    "        print(\"Avg loss (val): {:.4f}\".format(avg_loss_val))\n",
    "        print(\"Avg acc (val): {:.4f}\".format(avg_acc_val))\n",
    "        print('-' * 10)\n",
    "        print()\n",
    "        if avg_acc_val > best_acc:\n",
    "            best_acc = avg_acc_val\n",
    "            best_model_wts = copy.deepcopy(vgg.state_dict())\n",
    "    elapsed_time = time.time() - since\n",
    "    print()\n",
    "    print(\"Training completed in {:.0f}m {:.0f}s\".format(elapsed_time // 60, elapsed_time % 60))\n",
    "    print(\"Best acc: {:.4f}\".format(best_acc))\n",
    "    vgg.load_state_dict(best_model_wts)\n",
    "    return vgg"
   ]
  },
  {
   "cell_type": "code",
   "execution_count": 20,
   "id": "30bed154",
   "metadata": {
    "execution": {
     "iopub.execute_input": "2022-08-01T17:51:47.736884Z",
     "iopub.status.busy": "2022-08-01T17:51:47.736589Z",
     "iopub.status.idle": "2022-08-01T17:57:43.043941Z",
     "shell.execute_reply": "2022-08-01T17:57:43.042545Z"
    },
    "papermill": {
     "duration": 355.322298,
     "end_time": "2022-08-01T17:57:43.046761",
     "exception": false,
     "start_time": "2022-08-01T17:51:47.724463",
     "status": "completed"
    },
    "tags": []
   },
   "outputs": [
    {
     "name": "stdout",
     "output_type": "stream",
     "text": [
      "Epoch 0/16\n",
      "----------\n",
      "Training batch 100/147.5\n",
      "Validation batch 0/43\n",
      "Epoch 0 result: \n",
      "Avg loss (train): 0.0581\n",
      "Avg acc (train): 0.8022\n",
      "Avg loss (val): 0.0367\n",
      "Avg acc (val): 0.8994\n",
      "----------\n",
      "\n",
      "Epoch 1/16\n",
      "----------\n",
      "Training batch 100/147.5\n",
      "Validation batch 0/43\n",
      "Epoch 1 result: \n",
      "Avg loss (train): 0.0360\n",
      "Avg acc (train): 0.8888\n",
      "Avg loss (val): 0.0227\n",
      "Avg acc (val): 0.9408\n",
      "----------\n",
      "\n",
      "Epoch 2/16\n",
      "----------\n",
      "Training batch 100/147.5\n",
      "Validation batch 0/43\n",
      "Epoch 2 result: \n",
      "Avg loss (train): 0.0322\n",
      "Avg acc (train): 0.9049\n",
      "Avg loss (val): 0.0275\n",
      "Avg acc (val): 0.9231\n",
      "----------\n",
      "\n",
      "Epoch 3/16\n",
      "----------\n",
      "Training batch 100/147.5\n",
      "Validation batch 0/43\n",
      "Epoch 3 result: \n",
      "Avg loss (train): 0.0243\n",
      "Avg acc (train): 0.9338\n",
      "Avg loss (val): 0.0133\n",
      "Avg acc (val): 0.9704\n",
      "----------\n",
      "\n",
      "Epoch 4/16\n",
      "----------\n",
      "Training batch 100/147.5\n",
      "Validation batch 0/43\n",
      "Epoch 4 result: \n",
      "Avg loss (train): 0.0219\n",
      "Avg acc (train): 0.9414\n",
      "Avg loss (val): 0.0243\n",
      "Avg acc (val): 0.9260\n",
      "----------\n",
      "\n",
      "Epoch 5/16\n",
      "----------\n",
      "Training batch 100/147.5\n",
      "Validation batch 0/43\n",
      "Epoch 5 result: \n",
      "Avg loss (train): 0.0233\n",
      "Avg acc (train): 0.9389\n",
      "Avg loss (val): 0.0249\n",
      "Avg acc (val): 0.9053\n",
      "----------\n",
      "\n",
      "Epoch 6/16\n",
      "----------\n",
      "Training batch 100/147.5\n",
      "Validation batch 0/43\n",
      "Epoch 6 result: \n",
      "Avg loss (train): 0.0225\n",
      "Avg acc (train): 0.9295\n",
      "Avg loss (val): 0.0207\n",
      "Avg acc (val): 0.9142\n",
      "----------\n",
      "\n",
      "Epoch 7/16\n",
      "----------\n",
      "Training batch 100/147.5\n",
      "Validation batch 0/43\n",
      "Epoch 7 result: \n",
      "Avg loss (train): 0.0203\n",
      "Avg acc (train): 0.9406\n",
      "Avg loss (val): 0.0190\n",
      "Avg acc (val): 0.9379\n",
      "----------\n",
      "\n",
      "Epoch 8/16\n",
      "----------\n",
      "Training batch 100/147.5\n",
      "Validation batch 0/43\n",
      "Epoch 8 result: \n",
      "Avg loss (train): 0.0215\n",
      "Avg acc (train): 0.9346\n",
      "Avg loss (val): 0.0220\n",
      "Avg acc (val): 0.9467\n",
      "----------\n",
      "\n",
      "Epoch 9/16\n",
      "----------\n",
      "Training batch 100/147.5\n",
      "Validation batch 0/43\n",
      "Epoch 9 result: \n",
      "Avg loss (train): 0.0216\n",
      "Avg acc (train): 0.9380\n",
      "Avg loss (val): 0.0132\n",
      "Avg acc (val): 0.9704\n",
      "----------\n",
      "\n",
      "Epoch 10/16\n",
      "----------\n",
      "Training batch 100/147.5\n",
      "Validation batch 0/43\n",
      "Epoch 10 result: \n",
      "Avg loss (train): 0.0196\n",
      "Avg acc (train): 0.9423\n",
      "Avg loss (val): 0.0284\n",
      "Avg acc (val): 0.8964\n",
      "----------\n",
      "\n",
      "Epoch 11/16\n",
      "----------\n",
      "Training batch 100/147.5\n",
      "Validation batch 0/43\n",
      "Epoch 11 result: \n",
      "Avg loss (train): 0.0195\n",
      "Avg acc (train): 0.9499\n",
      "Avg loss (val): 0.0119\n",
      "Avg acc (val): 0.9734\n",
      "----------\n",
      "\n",
      "Epoch 12/16\n",
      "----------\n",
      "Training batch 100/147.5\n",
      "Validation batch 0/43\n",
      "Epoch 12 result: \n",
      "Avg loss (train): 0.0164\n",
      "Avg acc (train): 0.9576\n",
      "Avg loss (val): 0.0150\n",
      "Avg acc (val): 0.9645\n",
      "----------\n",
      "\n",
      "Epoch 13/16\n",
      "----------\n",
      "Training batch 100/147.5\n",
      "Validation batch 0/43\n",
      "Epoch 13 result: \n",
      "Avg loss (train): 0.0165\n",
      "Avg acc (train): 0.9542\n",
      "Avg loss (val): 0.0118\n",
      "Avg acc (val): 0.9793\n",
      "----------\n",
      "\n",
      "Epoch 14/16\n",
      "----------\n",
      "Training batch 100/147.5\n",
      "Validation batch 0/43\n",
      "Epoch 14 result: \n",
      "Avg loss (train): 0.0185\n",
      "Avg acc (train): 0.9457\n",
      "Avg loss (val): 0.0092\n",
      "Avg acc (val): 0.9852\n",
      "----------\n",
      "\n",
      "Epoch 15/16\n",
      "----------\n",
      "Training batch 100/147.5\n",
      "Validation batch 0/43\n",
      "Epoch 15 result: \n",
      "Avg loss (train): 0.0134\n",
      "Avg acc (train): 0.9686\n",
      "Avg loss (val): 0.0095\n",
      "Avg acc (val): 0.9852\n",
      "----------\n",
      "\n",
      "\n",
      "Training completed in 5m 55s\n",
      "Best acc: 0.9852\n"
     ]
    }
   ],
   "source": [
    "vgg = train_model(vgg, criterion, optimizer_ft, exp_lr_scheduler, num_epochs=16)"
   ]
  },
  {
   "cell_type": "code",
   "execution_count": 21,
   "id": "ea747401",
   "metadata": {
    "execution": {
     "iopub.execute_input": "2022-08-01T17:57:43.083414Z",
     "iopub.status.busy": "2022-08-01T17:57:43.082983Z",
     "iopub.status.idle": "2022-08-01T17:57:46.269195Z",
     "shell.execute_reply": "2022-08-01T17:57:46.267767Z"
    },
    "papermill": {
     "duration": 3.207726,
     "end_time": "2022-08-01T17:57:46.272058",
     "exception": false,
     "start_time": "2022-08-01T17:57:43.064332",
     "status": "completed"
    },
    "tags": []
   },
   "outputs": [
    {
     "name": "stdout",
     "output_type": "stream",
     "text": [
      "Test after training\n",
      "Evaluating model\n",
      "----------\n",
      "Test batch 0/84\n",
      "Evaluation completed in 0m 3s\n",
      "Avg loss (test): 0.0073\n",
      "Avg acc (test): 0.9821\n",
      "----------\n"
     ]
    }
   ],
   "source": [
    "print(\"Test after training\")\n",
    "eval_model(vgg,criterion)"
   ]
  },
  {
   "cell_type": "code",
   "execution_count": 22,
   "id": "2cfe3223",
   "metadata": {
    "execution": {
     "iopub.execute_input": "2022-08-01T17:57:46.310418Z",
     "iopub.status.busy": "2022-08-01T17:57:46.310053Z",
     "iopub.status.idle": "2022-08-01T17:57:47.682730Z",
     "shell.execute_reply": "2022-08-01T17:57:47.681506Z"
    },
    "papermill": {
     "duration": 1.395404,
     "end_time": "2022-08-01T17:57:47.685419",
     "exception": false,
     "start_time": "2022-08-01T17:57:46.290015",
     "status": "completed"
    },
    "tags": []
   },
   "outputs": [
    {
     "name": "stdout",
     "output_type": "stream",
     "text": [
      "Ground truth:\n"
     ]
    },
    {
     "data": {
      "image/png": "[encoded data removed]",
      "text/plain": [
       "<Figure size 432x288 with 1 Axes>"
      ]
     },
     "metadata": {
      "needs_background": "light"
     },
     "output_type": "display_data"
    },
    {
     "name": "stdout",
     "output_type": "stream",
     "text": [
      "Prediction:\n"
     ]
    },
    {
     "data": {
      "image/png": "[encoded data removed]",
      "text/plain": [
       "<Figure size 432x288 with 1 Axes>"
      ]
     },
     "metadata": {
      "needs_background": "light"
     },
     "output_type": "display_data"
    },
    {
     "name": "stdout",
     "output_type": "stream",
     "text": [
      "Ground truth:\n"
     ]
    },
    {
     "data": {
      "image/png": "[encoded data removed]",
      "text/plain": [
       "<Figure size 432x288 with 1 Axes>"
      ]
     },
     "metadata": {
      "needs_background": "light"
     },
     "output_type": "display_data"
    },
    {
     "name": "stdout",
     "output_type": "stream",
     "text": [
      "Prediction:\n"
     ]
    },
    {
     "data": {
      "image/png": "[encoded data removed]",
      "text/plain": [
       "<Figure size 432x288 with 1 Axes>"
      ]
     },
     "metadata": {
      "needs_background": "light"
     },
     "output_type": "display_data"
    }
   ],
   "source": [
    "visualize_model(vgg, num_images=16) #test before training"
   ]
  },
  {
   "cell_type": "code",
   "execution_count": null,
   "id": "df431b48",
   "metadata": {
    "papermill": {
     "duration": 0.018708,
     "end_time": "2022-08-01T17:57:47.723656",
     "exception": false,
     "start_time": "2022-08-01T17:57:47.704948",
     "status": "completed"
    },
    "tags": []
   },
   "outputs": [],
   "source": []
  }
 ],
 "metadata": {
  "kernelspec": {
   "display_name": "Python 3",
   "language": "python",
   "name": "python3"
  },
  "language_info": {
   "codemirror_mode": {
    "name": "ipython",
    "version": 3
   },
   "file_extension": ".py",
   "mimetype": "text/x-python",
   "name": "python",
   "nbconvert_exporter": "python",
   "pygments_lexer": "ipython3",
   "version": "3.7.12"
  },
  "papermill": {
   "default_parameters": {},
   "duration": 417.657744,
   "end_time": "2022-08-01T17:57:50.375405",
   "environment_variables": {},
   "exception": null,
   "input_path": "__notebook__.ipynb",
   "output_path": "__notebook__.ipynb",
   "parameters": {},
   "start_time": "2022-08-01T17:50:52.717661",
   "version": "2.3.4"
  },
  "widgets": {
   "application/vnd.jupyter.widget-state+json": {
    "state": {
     "07e380f33e6d4a7cb775bd8d43e45a13": {
      "model_module": "@jupyter-widgets/controls",
      "model_module_version": "1.5.0",
      "model_name": "FloatProgressModel",
      "state": {
       "_dom_classes": [],
       "_model_module": "@jupyter-widgets/controls",
       "_model_module_version": "1.5.0",
       "_model_name": "FloatProgressModel",
       "_view_count": null,
       "_view_module": "@jupyter-widgets/controls",
       "_view_module_version": "1.5.0",
       "_view_name": "ProgressView",
       "bar_style": "success",
       "description": "",
       "description_tooltip": null,
       "layout": "IPY_MODEL_3a95da6b25c84d31a05e6a9ac455bf32",
       "max": 553433881.0,
       "min": 0.0,
       "orientation": "horizontal",
       "style": "IPY_MODEL_a0863390d3354ccbb986aa1b41f7b770",
       "value": 553433881.0
      }
     },
     "098b83dd093043c9a1fb056024e68810": {
      "model_module": "@jupyter-widgets/base",
      "model_module_version": "1.2.0",
      "model_name": "LayoutModel",
      "state": {
       "_model_module": "@jupyter-widgets/base",
       "_model_module_version": "1.2.0",
       "_model_name": "LayoutModel",
       "_view_count": null,
       "_view_module": "@jupyter-widgets/base",
       "_view_module_version": "1.2.0",
       "_view_name": "LayoutView",
       "align_content": null,
       "align_items": null,
       "align_self": null,
       "border": null,
       "bottom": null,
       "display": null,
       "flex": null,
       "flex_flow": null,
       "grid_area": null,
       "grid_auto_columns": null,
       "grid_auto_flow": null,
       "grid_auto_rows": null,
       "grid_column": null,
       "grid_gap": null,
       "grid_row": null,
       "grid_template_areas": null,
       "grid_template_columns": null,
       "grid_template_rows": null,
       "height": null,
       "justify_content": null,
       "justify_items": null,
       "left": null,
       "margin": null,
       "max_height": null,
       "max_width": null,
       "min_height": null,
       "min_width": null,
       "object_fit": null,
       "object_position": null,
       "order": null,
       "overflow": null,
       "overflow_x": null,
       "overflow_y": null,
       "padding": null,
       "right": null,
       "top": null,
       "visibility": null,
       "width": null
      }
     },
     "3a95da6b25c84d31a05e6a9ac455bf32": {
      "model_module": "@jupyter-widgets/base",
      "model_module_version": "1.2.0",
      "model_name": "LayoutModel",
      "state": {
       "_model_module": "@jupyter-widgets/base",
       "_model_module_version": "1.2.0",
       "_model_name": "LayoutModel",
       "_view_count": null,
       "_view_module": "@jupyter-widgets/base",
       "_view_module_version": "1.2.0",
       "_view_name": "LayoutView",
       "align_content": null,
       "align_items": null,
       "align_self": null,
       "border": null,
       "bottom": null,
       "display": null,
       "flex": null,
       "flex_flow": null,
       "grid_area": null,
       "grid_auto_columns": null,
       "grid_auto_flow": null,
       "grid_auto_rows": null,
       "grid_column": null,
       "grid_gap": null,
       "grid_row": null,
       "grid_template_areas": null,
       "grid_template_columns": null,
       "grid_template_rows": null,
       "height": null,
       "justify_content": null,
       "justify_items": null,
       "left": null,
       "margin": null,
       "max_height": null,
       "max_width": null,
       "min_height": null,
       "min_width": null,
       "object_fit": null,
       "object_position": null,
       "order": null,
       "overflow": null,
       "overflow_x": null,
       "overflow_y": null,
       "padding": null,
       "right": null,
       "top": null,
       "visibility": null,
       "width": null
      }
     },
     "7276f98e8b2942eaa84f038bf7cae9d1": {
      "model_module": "@jupyter-widgets/controls",
      "model_module_version": "1.5.0",
      "model_name": "HBoxModel",
      "state": {
       "_dom_classes": [],
       "_model_module": "@jupyter-widgets/controls",
       "_model_module_version": "1.5.0",
       "_model_name": "HBoxModel",
       "_view_count": null,
       "_view_module": "@jupyter-widgets/controls",
       "_view_module_version": "1.5.0",
       "_view_name": "HBoxView",
       "box_style": "",
       "children": [
        "IPY_MODEL_d3c10c400fbe471ca135305cfd557c86",
        "IPY_MODEL_07e380f33e6d4a7cb775bd8d43e45a13",
        "IPY_MODEL_95932caed0bf4400b8feded850bb3282"
       ],
       "layout": "IPY_MODEL_098b83dd093043c9a1fb056024e68810"
      }
     },
     "95932caed0bf4400b8feded850bb3282": {
      "model_module": "@jupyter-widgets/controls",
      "model_module_version": "1.5.0",
      "model_name": "HTMLModel",
      "state": {
       "_dom_classes": [],
       "_model_module": "@jupyter-widgets/controls",
       "_model_module_version": "1.5.0",
       "_model_name": "HTMLModel",
       "_view_count": null,
       "_view_module": "@jupyter-widgets/controls",
       "_view_module_version": "1.5.0",
       "_view_name": "HTMLView",
       "description": "",
       "description_tooltip": null,
       "layout": "IPY_MODEL_9ea934cb4d3046549393c2db4a8280c1",
       "placeholder": "​",
       "style": "IPY_MODEL_d0bfcdbec5804890831ef58b474fa383",
       "value": " 528M/528M [00:03&lt;00:00, 173MB/s]"
      }
     },
     "9ea934cb4d3046549393c2db4a8280c1": {
      "model_module": "@jupyter-widgets/base",
      "model_module_version": "1.2.0",
      "model_name": "LayoutModel",
      "state": {
       "_model_module": "@jupyter-widgets/base",
       "_model_module_version": "1.2.0",
       "_model_name": "LayoutModel",
       "_view_count": null,
       "_view_module": "@jupyter-widgets/base",
       "_view_module_version": "1.2.0",
       "_view_name": "LayoutView",
       "align_content": null,
       "align_items": null,
       "align_self": null,
       "border": null,
       "bottom": null,
       "display": null,
       "flex": null,
       "flex_flow": null,
       "grid_area": null,
       "grid_auto_columns": null,
       "grid_auto_flow": null,
       "grid_auto_rows": null,
       "grid_column": null,
       "grid_gap": null,
       "grid_row": null,
       "grid_template_areas": null,
       "grid_template_columns": null,
       "grid_template_rows": null,
       "height": null,
       "justify_content": null,
       "justify_items": null,
       "left": null,
       "margin": null,
       "max_height": null,
       "max_width": null,
       "min_height": null,
       "min_width": null,
       "object_fit": null,
       "object_position": null,
       "order": null,
       "overflow": null,
       "overflow_x": null,
       "overflow_y": null,
       "padding": null,
       "right": null,
       "top": null,
       "visibility": null,
       "width": null
      }
     },
     "a0863390d3354ccbb986aa1b41f7b770": {
      "model_module": "@jupyter-widgets/controls",
      "model_module_version": "1.5.0",
      "model_name": "ProgressStyleModel",
      "state": {
       "_model_module": "@jupyter-widgets/controls",
       "_model_module_version": "1.5.0",
       "_model_name": "ProgressStyleModel",
       "_view_count": null,
       "_view_module": "@jupyter-widgets/base",
       "_view_module_version": "1.2.0",
       "_view_name": "StyleView",
       "bar_color": null,
       "description_width": ""
      }
     },
     "d0bfcdbec5804890831ef58b474fa383": {
      "model_module": "@jupyter-widgets/controls",
      "model_module_version": "1.5.0",
      "model_name": "DescriptionStyleModel",
      "state": {
       "_model_module": "@jupyter-widgets/controls",
       "_model_module_version": "1.5.0",
       "_model_name": "DescriptionStyleModel",
       "_view_count": null,
       "_view_module": "@jupyter-widgets/base",
       "_view_module_version": "1.2.0",
       "_view_name": "StyleView",
       "description_width": ""
      }
     },
     "d3c10c400fbe471ca135305cfd557c86": {
      "model_module": "@jupyter-widgets/controls",
      "model_module_version": "1.5.0",
      "model_name": "HTMLModel",
      "state": {
       "_dom_classes": [],
       "_model_module": "@jupyter-widgets/controls",
       "_model_module_version": "1.5.0",
       "_model_name": "HTMLModel",
       "_view_count": null,
       "_view_module": "@jupyter-widgets/controls",
       "_view_module_version": "1.5.0",
       "_view_name": "HTMLView",
       "description": "",
       "description_tooltip": null,
       "layout": "IPY_MODEL_ded17f72d4ca4a97b0877de545fda208",
       "placeholder": "​",
       "style": "IPY_MODEL_d4ce06832d274a31bad5bf5cec263222",
       "value": "100%"
      }
     },
     "d4ce06832d274a31bad5bf5cec263222": {
      "model_module": "@jupyter-widgets/controls",
      "model_module_version": "1.5.0",
      "model_name": "DescriptionStyleModel",
      "state": {
       "_model_module": "@jupyter-widgets/controls",
       "_model_module_version": "1.5.0",
       "_model_name": "DescriptionStyleModel",
       "_view_count": null,
       "_view_module": "@jupyter-widgets/base",
       "_view_module_version": "1.2.0",
       "_view_name": "StyleView",
       "description_width": ""
      }
     },
     "ded17f72d4ca4a97b0877de545fda208": {
      "model_module": "@jupyter-widgets/base",
      "model_module_version": "1.2.0",
      "model_name": "LayoutModel",
      "state": {
       "_model_module": "@jupyter-widgets/base",
       "_model_module_version": "1.2.0",
       "_model_name": "LayoutModel",
       "_view_count": null,
       "_view_module": "@jupyter-widgets/base",
       "_view_module_version": "1.2.0",
       "_view_name": "LayoutView",
       "align_content": null,
       "align_items": null,
       "align_self": null,
       "border": null,
       "bottom": null,
       "display": null,
       "flex": null,
       "flex_flow": null,
       "grid_area": null,
       "grid_auto_columns": null,
       "grid_auto_flow": null,
       "grid_auto_rows": null,
       "grid_column": null,
       "grid_gap": null,
       "grid_row": null,
       "grid_template_areas": null,
       "grid_template_columns": null,
       "grid_template_rows": null,
       "height": null,
       "justify_content": null,
       "justify_items": null,
       "left": null,
       "margin": null,
       "max_height": null,
       "max_width": null,
       "min_height": null,
       "min_width": null,
       "object_fit": null,
       "object_position": null,
       "order": null,
       "overflow": null,
       "overflow_x": null,
       "overflow_y": null,
       "padding": null,
       "right": null,
       "top": null,
       "visibility": null,
       "width": null
      }
     }
    },
    "version_major": 2,
    "version_minor": 0
   }
  }
 },
 "nbformat": 4,
 "nbformat_minor": 5
}
